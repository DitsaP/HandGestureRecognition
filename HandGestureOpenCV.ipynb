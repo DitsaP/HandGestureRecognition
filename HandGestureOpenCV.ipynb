{
 "cells": [
  {
   "cell_type": "code",
   "execution_count": 3,
   "id": "bcf8d294",
   "metadata": {},
   "outputs": [],
   "source": [
    "import cv2\n",
    "import numpy as np\n",
    "from tensorflow.keras.models import load_model\n",
    "from tensorflow.keras.preprocessing.image import img_to_array\n",
    "from tensorflow.keras.applications.mobilenet_v2 import preprocess_input\n"
   ]
  },
  {
   "cell_type": "code",
   "execution_count": 4,
   "id": "47b3a64a",
   "metadata": {},
   "outputs": [],
   "source": [
    "# Constants\n",
    "gesture_classes = {0: \"Palm\",\n",
    "                   1: \"L\",\n",
    "                   2:\"Fist\",\n",
    "                   3: \"Fist Moved\",\n",
    "                   4: \"Thumb\",\n",
    "                   5: \"Index\",\n",
    "                   6: \"OK\",\n",
    "                   7: \"Palm Moved\",\n",
    "                   8: \"C\",\n",
    "                   9: \"Down\"}\n",
    "\n",
    "# Load the pretrained model\n",
    "model = load_model('hand_gesture_recognition.h5py')\n",
    "\n",
    "# Function to predict the hand gesture\n",
    "def predict_gesture(frame):\n",
    "    frame = cv2.cvtColor(frame, cv2.COLOR_BGR2GRAY)  # Convert the frame to grayscale\n",
    "    frame = cv2.resize(frame, (256, 256))  # Adjust the size to match the model input size\n",
    "    frame = img_to_array(frame)\n",
    "    frame = preprocess_input(frame)\n",
    "    frame = np.expand_dims(frame, axis=0)\n",
    "    prediction = model.predict(frame)[0]\n",
    "    predicted_class = gesture_classes[np.argmax(prediction)]\n",
    "    return predicted_class, prediction\n",
    "\n",
    "# OpenCV setup for capturing video frames\n",
    "cap = cv2.VideoCapture(1)\n",
    "\n",
    "while True:\n",
    "    ret, frame = cap.read()\n",
    "    if not ret:\n",
    "        break  \n",
    "\n",
    "    gesture, _ = predict_gesture(frame)\n",
    "    cv2.putText(frame, f'Gesture: {gesture}', (10, 30), cv2.FONT_HERSHEY_SIMPLEX, 1, (0, 255, 0), 2)\n",
    "    cv2.imshow('Hand Gesture Recognition', frame)\n",
    "\n",
    "    if cv2.waitKey(1) & 0xFF == 27:  # Press Esc to exit\n",
    "        break\n",
    "\n",
    "cap.release()\n",
    "cv2.destroyAllWindows()\n"
   ]
  },
  {
   "cell_type": "code",
   "execution_count": null,
   "id": "be6657e5",
   "metadata": {},
   "outputs": [],
   "source": []
  },
  {
   "cell_type": "code",
   "execution_count": null,
   "id": "213f4c6a",
   "metadata": {},
   "outputs": [],
   "source": []
  }
 ],
 "metadata": {
  "kernelspec": {
   "display_name": "Python 3 (ipykernel)",
   "language": "python",
   "name": "python3"
  },
  "language_info": {
   "codemirror_mode": {
    "name": "ipython",
    "version": 3
   },
   "file_extension": ".py",
   "mimetype": "text/x-python",
   "name": "python",
   "nbconvert_exporter": "python",
   "pygments_lexer": "ipython3",
   "version": "3.11.3"
  }
 },
 "nbformat": 4,
 "nbformat_minor": 5
}
